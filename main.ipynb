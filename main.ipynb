{
 "cells": [
  {
   "metadata": {},
   "cell_type": "markdown",
   "source": "### Link To GitHub Repo: https://github.com/elthran/CSCA-5632",
   "id": "b65ba2f4f9cb3125"
  },
  {
   "metadata": {},
   "cell_type": "markdown",
   "source": [
    "# Book Recommendation System Using Unsupervised Learning\n",
    "\n",
    "## Step 1: Import Libraries and Load Data"
   ],
   "id": "cc39866a3dbf9049"
  },
  {
   "metadata": {
    "ExecuteTime": {
     "end_time": "2024-07-31T02:02:15.915786Z",
     "start_time": "2024-07-31T02:02:14.849174Z"
    }
   },
   "cell_type": "code",
   "source": [
    "import joblib\n",
    "import pandas as pd\n",
    "import numpy as np\n",
    "import matplotlib.pyplot as plt\n",
    "import seaborn as sns\n",
    "import os\n",
    "from sklearn.model_selection import train_test_split\n",
    "from sklearn.metrics.pairwise import cosine_similarity\n",
    "from scipy.sparse import csr_matrix\n",
    "\n",
    "# Display settings for DataFrames\n",
    "pd.set_option('display.max_columns', 500)\n",
    "pd.set_option('display.expand_frame_repr', False)\n",
    "\n",
    "# Load datasets\n",
    "books = pd.read_csv('data/Books.csv', dtype = {\n",
    "    'ISBN': str,\n",
    "    'Book-Title': str,\n",
    "    'Book-Author': str,\n",
    "    'Year-Of-Publication': str,  # Use str to handle mixed types\n",
    "    'Publisher': str,\n",
    "    'Image-URL-S': str,\n",
    "    'Image-URL-M': str,\n",
    "    'Image-URL-L': str\n",
    "})\n",
    "users = pd.read_csv('data/Users.csv')\n",
    "ratings = pd.read_csv('data/Ratings.csv')"
   ],
   "id": "780653962e357c89",
   "outputs": [],
   "execution_count": 151
  },
  {
   "metadata": {
    "ExecuteTime": {
     "end_time": "2024-07-31T02:02:15.937394Z",
     "start_time": "2024-07-31T02:02:15.916632Z"
    }
   },
   "cell_type": "code",
   "source": [
    "## Books (we drop the URLs since we are not advanced enough to use\n",
    "books = books.drop(columns=[\"Image-URL-S\", \"Image-URL-M\", \"Image-URL-L\"])\n",
    "print(\"Books:\\n\", books.head())"
   ],
   "id": "58d9ac81dfaa56f9",
   "outputs": [
    {
     "name": "stdout",
     "output_type": "stream",
     "text": [
      "Books:\n",
      "          ISBN                                         Book-Title           Book-Author Year-Of-Publication                   Publisher\n",
      "0  0195153448                                Classical Mythology    Mark P. O. Morford                2002     Oxford University Press\n",
      "1  0002005018                                       Clara Callan  Richard Bruce Wright                2001       HarperFlamingo Canada\n",
      "2  0060973129                               Decision in Normandy          Carlo D'Este                1991             HarperPerennial\n",
      "3  0374157065  Flu: The Story of the Great Influenza Pandemic...      Gina Bari Kolata                1999        Farrar Straus Giroux\n",
      "4  0393045218                             The Mummies of Urumchi       E. J. W. Barber                1999  W. W. Norton &amp; Company\n"
     ]
    }
   ],
   "execution_count": 152
  },
  {
   "metadata": {
    "ExecuteTime": {
     "end_time": "2024-07-31T02:02:15.940236Z",
     "start_time": "2024-07-31T02:02:15.938132Z"
    }
   },
   "cell_type": "code",
   "source": [
    "## Users\n",
    "print(\"Users:\\n\", users.head())"
   ],
   "id": "f34f869cbe63f3d7",
   "outputs": [
    {
     "name": "stdout",
     "output_type": "stream",
     "text": [
      "Users:\n",
      "    User-ID                            Location   Age\n",
      "0        1                  nyc, new york, usa   NaN\n",
      "1        2           stockton, california, usa  18.0\n",
      "2        3     moscow, yukon territory, russia   NaN\n",
      "3        4           porto, v.n.gaia, portugal  17.0\n",
      "4        5  farnborough, hants, united kingdom   NaN\n"
     ]
    }
   ],
   "execution_count": 153
  },
  {
   "metadata": {
    "ExecuteTime": {
     "end_time": "2024-07-31T02:02:15.943105Z",
     "start_time": "2024-07-31T02:02:15.941239Z"
    }
   },
   "cell_type": "code",
   "source": [
    "## Ratings\n",
    "print(\"Ratings:\\n\", ratings.head())"
   ],
   "id": "474f68d75a278803",
   "outputs": [
    {
     "name": "stdout",
     "output_type": "stream",
     "text": [
      "Ratings:\n",
      "    User-ID        ISBN  Book-Rating\n",
      "0   276725  034545104X            0\n",
      "1   276726  0155061224            5\n",
      "2   276727  0446520802            0\n",
      "3   276729  052165615X            3\n",
      "4   276729  0521795028            6\n"
     ]
    }
   ],
   "execution_count": 154
  },
  {
   "metadata": {},
   "cell_type": "markdown",
   "source": "## Step 2: Data Inspection",
   "id": "1ab8f8db971421a5"
  },
  {
   "metadata": {},
   "cell_type": "markdown",
   "source": "First, we inspect the data types and check for missing values in the datasets.",
   "id": "149707dfaafdd8a7"
  },
  {
   "metadata": {
    "ExecuteTime": {
     "end_time": "2024-07-31T02:02:16.016115Z",
     "start_time": "2024-07-31T02:02:15.943740Z"
    }
   },
   "cell_type": "code",
   "source": [
    "# Data inspection\n",
    "print(\"\\nBooks DataFrame Info:\")\n",
    "print(books.info())\n",
    "\n",
    "print(\"\\nUsers DataFrame Info:\")\n",
    "print(users.info())\n",
    "\n",
    "print(\"\\nRatings DataFrame Info:\")\n",
    "print(ratings.info())\n"
   ],
   "id": "b463c593e2296fde",
   "outputs": [
    {
     "name": "stdout",
     "output_type": "stream",
     "text": [
      "\n",
      "Books DataFrame Info:\n",
      "<class 'pandas.core.frame.DataFrame'>\n",
      "RangeIndex: 271360 entries, 0 to 271359\n",
      "Data columns (total 5 columns):\n",
      " #   Column               Non-Null Count   Dtype \n",
      "---  ------               --------------   ----- \n",
      " 0   ISBN                 271360 non-null  object\n",
      " 1   Book-Title           271360 non-null  object\n",
      " 2   Book-Author          271358 non-null  object\n",
      " 3   Year-Of-Publication  271360 non-null  object\n",
      " 4   Publisher            271358 non-null  object\n",
      "dtypes: object(5)\n",
      "memory usage: 10.4+ MB\n",
      "None\n",
      "\n",
      "Users DataFrame Info:\n",
      "<class 'pandas.core.frame.DataFrame'>\n",
      "RangeIndex: 278858 entries, 0 to 278857\n",
      "Data columns (total 3 columns):\n",
      " #   Column    Non-Null Count   Dtype  \n",
      "---  ------    --------------   -----  \n",
      " 0   User-ID   278858 non-null  int64  \n",
      " 1   Location  278858 non-null  object \n",
      " 2   Age       168096 non-null  float64\n",
      "dtypes: float64(1), int64(1), object(1)\n",
      "memory usage: 6.4+ MB\n",
      "None\n",
      "\n",
      "Ratings DataFrame Info:\n",
      "<class 'pandas.core.frame.DataFrame'>\n",
      "RangeIndex: 1149780 entries, 0 to 1149779\n",
      "Data columns (total 3 columns):\n",
      " #   Column       Non-Null Count    Dtype \n",
      "---  ------       --------------    ----- \n",
      " 0   User-ID      1149780 non-null  int64 \n",
      " 1   ISBN         1149780 non-null  object\n",
      " 2   Book-Rating  1149780 non-null  int64 \n",
      "dtypes: int64(2), object(1)\n",
      "memory usage: 26.3+ MB\n",
      "None\n"
     ]
    }
   ],
   "execution_count": 155
  },
  {
   "metadata": {},
   "cell_type": "markdown",
   "source": [
    "Problem data types:\n",
    "\n",
    "- Books: Year-Of-Publication should be numerical\n",
    "- Users: User-ID are numerical, which can be fine but I will convert to string (so they are not automatically picked up by numerical operations)\n",
    "- User: Age should be an integer\n",
    "- Ratings: User-ID are numerical, which can be fine but I will convert to string (so they are not automatically picked up by numerical operations)\n",
    "\n",
    "Next check for null values that we will need to deal with"
   ],
   "id": "36cb7638275dc290"
  },
  {
   "metadata": {
    "ExecuteTime": {
     "end_time": "2024-07-31T02:02:16.096612Z",
     "start_time": "2024-07-31T02:02:16.017249Z"
    }
   },
   "cell_type": "code",
   "source": [
    "def print_missing_values(df, name):\n",
    "    # Calculate total missing values for each column\n",
    "    total_missing = df.isnull().sum()\n",
    "    # Calculate percentage of missing values for each column\n",
    "    percent_missing = (total_missing / len(df)) * 100\n",
    "    # Create a DataFrame with the total and percentage of missing values\n",
    "    missing_values = pd.DataFrame({'Total Missing': total_missing, 'Percentage Missing': percent_missing})\n",
    "    # Filter the DataFrame to include only columns with at least one missing value\n",
    "    missing_values = missing_values[missing_values['Total Missing'] > 0]\n",
    "    # Print the missing values information\n",
    "    print(f\"\\nMissing values in {name} DataFrame:\\n\", missing_values)\n",
    "    \n",
    "print_missing_values(books, \"Books\")\n",
    "print_missing_values(users, \"Users\")\n",
    "print_missing_values(ratings, \"Ratings\")\n"
   ],
   "id": "43a2c6bba69a935f",
   "outputs": [
    {
     "name": "stdout",
     "output_type": "stream",
     "text": [
      "\n",
      "Missing values in Books DataFrame:\n",
      "              Total Missing  Percentage Missing\n",
      "Book-Author              2            0.000737\n",
      "Publisher                2            0.000737\n",
      "\n",
      "Missing values in Users DataFrame:\n",
      "      Total Missing  Percentage Missing\n",
      "Age         110762           39.719857\n",
      "\n",
      "Missing values in Ratings DataFrame:\n",
      " Empty DataFrame\n",
      "Columns: [Total Missing, Percentage Missing]\n",
      "Index: []\n"
     ]
    }
   ],
   "execution_count": 156
  },
  {
   "metadata": {},
   "cell_type": "markdown",
   "source": "## Step 3: Data Cleaning",
   "id": "e431d020b8b2faa3"
  },
  {
   "metadata": {},
   "cell_type": "markdown",
   "source": "### Fix incorrect book entries",
   "id": "20595d9fa9364449"
  },
  {
   "metadata": {
    "ExecuteTime": {
     "end_time": "2024-07-31T02:02:16.231112Z",
     "start_time": "2024-07-31T02:02:16.097719Z"
    }
   },
   "cell_type": "code",
   "source": [
    "# Let's see why Year was loaded as a string\n",
    "print(\"\\nAll unique years:\\n\\n\", sorted(books[\"Year-Of-Publication\"].unique()))\n",
    "\n",
    "print(\"\\n\\nBooks with invalid integer years:\\n\\n\", books[books['Year-Of-Publication'].isin(['DK Publishing Inc', 'Gallimard',])])\n",
    "\n",
    "# There are 3 incorrect entries that need to be fixed\n",
    "book_correction_mapping = {\n",
    "    \"078946697X\": {\n",
    "        \"Year-Of-Publication\": \"2000\",\n",
    "        \"Book-Author\": \"Teitelbaum, Michael\",\n",
    "        \"Publisher\": \"DK Publishing Inc\",\n",
    "    },\n",
    "    \"2070426769\": {\n",
    "        \"Year-Of-Publication\": \"2003\",\n",
    "        \"Book-Author\": \"Jean-Marie Gustave Le Clézio\",\n",
    "        \"Publisher\": \"Gallimard\",\n",
    "    },\n",
    "    \"0789466953\": {\n",
    "        \"Year-Of-Publication\": \"2000\",\n",
    "        \"Book-Author\": \"Buckley Jr., James; O'Neill\",\n",
    "        \"Publisher\": \"DK Publishing Inc\",\n",
    "    },\n",
    "}\n",
    "\n",
    "for isbn, corrected_data in book_correction_mapping.items():\n",
    "    books.loc[books['ISBN'] == isbn, 'Year-Of-Publication'] = corrected_data['Year-Of-Publication']\n",
    "    books.loc[books['ISBN'] == isbn, 'Book-Author'] = corrected_data['Book-Author']\n",
    "    books.loc[books['ISBN'] == isbn, 'Publisher'] = corrected_data['Publisher']\n"
   ],
   "id": "52285649f560feb8",
   "outputs": [
    {
     "name": "stdout",
     "output_type": "stream",
     "text": [
      "\n",
      "All unique years:\n",
      "\n",
      " ['0', '1376', '1378', '1806', '1897', '1900', '1901', '1902', '1904', '1906', '1908', '1909', '1910', '1911', '1914', '1917', '1919', '1920', '1921', '1922', '1923', '1924', '1925', '1926', '1927', '1928', '1929', '1930', '1931', '1932', '1933', '1934', '1935', '1936', '1937', '1938', '1939', '1940', '1941', '1942', '1943', '1944', '1945', '1946', '1947', '1948', '1949', '1950', '1951', '1952', '1953', '1954', '1955', '1956', '1957', '1958', '1959', '1960', '1961', '1962', '1963', '1964', '1965', '1966', '1967', '1968', '1969', '1970', '1971', '1972', '1973', '1974', '1975', '1976', '1977', '1978', '1979', '1980', '1981', '1982', '1983', '1984', '1985', '1986', '1987', '1988', '1989', '1990', '1991', '1992', '1993', '1994', '1995', '1996', '1997', '1998', '1999', '2000', '2001', '2002', '2003', '2004', '2005', '2006', '2008', '2010', '2011', '2012', '2020', '2021', '2024', '2026', '2030', '2037', '2038', '2050', 'DK Publishing Inc', 'Gallimard']\n",
      "\n",
      "\n",
      "Books with invalid integer years:\n",
      "\n",
      "               ISBN                                         Book-Title Book-Author Year-Of-Publication                                          Publisher\n",
      "209538  078946697X  DK Readers: Creating the X-Men, How It All Beg...        2000   DK Publishing Inc  http://images.amazon.com/images/P/078946697X.0...\n",
      "220731  2070426769  Peuple du ciel, suivi de 'Les Bergers\\\";Jean-M...        2003           Gallimard  http://images.amazon.com/images/P/2070426769.0...\n",
      "221678  0789466953  DK Readers: Creating the X-Men, How Comic Book...        2000   DK Publishing Inc  http://images.amazon.com/images/P/0789466953.0...\n"
     ]
    }
   ],
   "execution_count": 157
  },
  {
   "metadata": {
    "ExecuteTime": {
     "end_time": "2024-07-31T02:02:16.261974Z",
     "start_time": "2024-07-31T02:02:16.232754Z"
    }
   },
   "cell_type": "code",
   "source": [
    "print(\"\\nAll unique years:\\n\\n\", sorted(books[\"Year-Of-Publication\"].unique()))\n",
    "\n",
    "# Check the 3 corrected books\n",
    "books[books['ISBN'].isin(book_correction_mapping.keys())]"
   ],
   "id": "8c9423c64762d3b1",
   "outputs": [
    {
     "name": "stdout",
     "output_type": "stream",
     "text": [
      "\n",
      "All unique years:\n",
      "\n",
      " ['0', '1376', '1378', '1806', '1897', '1900', '1901', '1902', '1904', '1906', '1908', '1909', '1910', '1911', '1914', '1917', '1919', '1920', '1921', '1922', '1923', '1924', '1925', '1926', '1927', '1928', '1929', '1930', '1931', '1932', '1933', '1934', '1935', '1936', '1937', '1938', '1939', '1940', '1941', '1942', '1943', '1944', '1945', '1946', '1947', '1948', '1949', '1950', '1951', '1952', '1953', '1954', '1955', '1956', '1957', '1958', '1959', '1960', '1961', '1962', '1963', '1964', '1965', '1966', '1967', '1968', '1969', '1970', '1971', '1972', '1973', '1974', '1975', '1976', '1977', '1978', '1979', '1980', '1981', '1982', '1983', '1984', '1985', '1986', '1987', '1988', '1989', '1990', '1991', '1992', '1993', '1994', '1995', '1996', '1997', '1998', '1999', '2000', '2001', '2002', '2003', '2004', '2005', '2006', '2008', '2010', '2011', '2012', '2020', '2021', '2024', '2026', '2030', '2037', '2038', '2050']\n"
     ]
    },
    {
     "data": {
      "text/plain": [
       "              ISBN                                         Book-Title                   Book-Author Year-Of-Publication          Publisher\n",
       "209538  078946697X  DK Readers: Creating the X-Men, How It All Beg...           Teitelbaum, Michael                2000  DK Publishing Inc\n",
       "220731  2070426769  Peuple du ciel, suivi de 'Les Bergers\\\";Jean-M...  Jean-Marie Gustave Le Clézio                2003          Gallimard\n",
       "221678  0789466953  DK Readers: Creating the X-Men, How Comic Book...   Buckley Jr., James; O'Neill                2000  DK Publishing Inc"
      ],
      "text/html": [
       "<div>\n",
       "<style scoped>\n",
       "    .dataframe tbody tr th:only-of-type {\n",
       "        vertical-align: middle;\n",
       "    }\n",
       "\n",
       "    .dataframe tbody tr th {\n",
       "        vertical-align: top;\n",
       "    }\n",
       "\n",
       "    .dataframe thead th {\n",
       "        text-align: right;\n",
       "    }\n",
       "</style>\n",
       "<table border=\"1\" class=\"dataframe\">\n",
       "  <thead>\n",
       "    <tr style=\"text-align: right;\">\n",
       "      <th></th>\n",
       "      <th>ISBN</th>\n",
       "      <th>Book-Title</th>\n",
       "      <th>Book-Author</th>\n",
       "      <th>Year-Of-Publication</th>\n",
       "      <th>Publisher</th>\n",
       "    </tr>\n",
       "  </thead>\n",
       "  <tbody>\n",
       "    <tr>\n",
       "      <th>209538</th>\n",
       "      <td>078946697X</td>\n",
       "      <td>DK Readers: Creating the X-Men, How It All Beg...</td>\n",
       "      <td>Teitelbaum, Michael</td>\n",
       "      <td>2000</td>\n",
       "      <td>DK Publishing Inc</td>\n",
       "    </tr>\n",
       "    <tr>\n",
       "      <th>220731</th>\n",
       "      <td>2070426769</td>\n",
       "      <td>Peuple du ciel, suivi de 'Les Bergers\\\";Jean-M...</td>\n",
       "      <td>Jean-Marie Gustave Le Clézio</td>\n",
       "      <td>2003</td>\n",
       "      <td>Gallimard</td>\n",
       "    </tr>\n",
       "    <tr>\n",
       "      <th>221678</th>\n",
       "      <td>0789466953</td>\n",
       "      <td>DK Readers: Creating the X-Men, How Comic Book...</td>\n",
       "      <td>Buckley Jr., James; O'Neill</td>\n",
       "      <td>2000</td>\n",
       "      <td>DK Publishing Inc</td>\n",
       "    </tr>\n",
       "  </tbody>\n",
       "</table>\n",
       "</div>"
      ]
     },
     "execution_count": 158,
     "metadata": {},
     "output_type": "execute_result"
    }
   ],
   "execution_count": 158
  },
  {
   "metadata": {},
   "cell_type": "markdown",
   "source": [
    "### Fix Null Ages\n",
    "Since 40% of the ages are NaN and the rest are floats, they are difficult to work with. So we will bin them and make NaN one bin.\n"
   ],
   "id": "59b7c9787c8bd4fe"
  },
  {
   "metadata": {
    "ExecuteTime": {
     "end_time": "2024-07-31T02:02:16.278924Z",
     "start_time": "2024-07-31T02:02:16.263025Z"
    }
   },
   "cell_type": "code",
   "source": [
    "# Define the bins and labels for the age ranges\n",
    "bins = [0, 10, 20, 30, 40, 60, np.inf]\n",
    "labels = ['0-10', '11-20', '21-30', '31-40', '41-60', '60+']\n",
    "\n",
    "# Bin the ages using pd.cut\n",
    "users['Age'] = pd.cut(users['Age'], bins=bins, labels=labels, right=False)\n",
    "# Handle NaN values by assigning them to a separate bin\n",
    "users['Age'] = users['Age'].cat.add_categories('Unknown').fillna('Unknown')\n",
    "\n",
    "# Verify the changes\n",
    "print(\"\\nBinned ages:\\n\", users['Age'].value_counts())"
   ],
   "id": "1ffbaf5e09b62303",
   "outputs": [
    {
     "name": "stdout",
     "output_type": "stream",
     "text": [
      "\n",
      "Binned ages:\n",
      " Age\n",
      "Unknown    110762\n",
      "21-30       51539\n",
      "41-60       45511\n",
      "31-40       41889\n",
      "11-20       18894\n",
      "60+          9194\n",
      "0-10         1069\n",
      "Name: count, dtype: int64\n"
     ]
    }
   ],
   "execution_count": 159
  },
  {
   "metadata": {},
   "cell_type": "markdown",
   "source": "Now that the data is corrected, we can set the data types",
   "id": "84eac451290d3bb0"
  },
  {
   "metadata": {
    "ExecuteTime": {
     "end_time": "2024-07-31T02:02:16.450026Z",
     "start_time": "2024-07-31T02:02:16.283760Z"
    }
   },
   "cell_type": "code",
   "source": [
    "books[\"Year-Of-Publication\"] = books[\"Year-Of-Publication\"].astype(int)\n",
    "users['User-ID'] = users['User-ID'].astype(str)\n",
    "ratings['User-ID'] = ratings['User-ID'].astype(str)"
   ],
   "id": "d272a7164704c70c",
   "outputs": [],
   "execution_count": 160
  },
  {
   "metadata": {},
   "cell_type": "markdown",
   "source": "### Clean up User Location",
   "id": "30c390ee78fb99a7"
  },
  {
   "metadata": {
    "ExecuteTime": {
     "end_time": "2024-07-31T02:02:16.472941Z",
     "start_time": "2024-07-31T02:02:16.450691Z"
    }
   },
   "cell_type": "code",
   "source": [
    "# First let's take a look at them\n",
    "users[\"Location\"].unique()"
   ],
   "id": "ed465e0dbd85be91",
   "outputs": [
    {
     "data": {
      "text/plain": [
       "array(['nyc, new york, usa', 'stockton, california, usa',\n",
       "       'moscow, yukon territory, russia', ...,\n",
       "       'sergnano, lombardia, italy', 'stranraer, n/a, united kingdom',\n",
       "       'tacoma, washington, united kingdom'], dtype=object)"
      ]
     },
     "execution_count": 161,
     "metadata": {},
     "output_type": "execute_result"
    }
   ],
   "execution_count": 161
  },
  {
   "metadata": {
    "ExecuteTime": {
     "end_time": "2024-07-31T02:02:16.612192Z",
     "start_time": "2024-07-31T02:02:16.474117Z"
    }
   },
   "cell_type": "code",
   "source": [
    "import re\n",
    "\n",
    "import pandas as pd\n",
    "import pycountry\n",
    "from geopy.exc import GeocoderTimedOut, GeocoderUnavailable\n",
    "from geopy.geocoders import Nominatim\n",
    "\n",
    "# Manual corrections for country names\n",
    "manual_corrections = {\n",
    "    \"russia\": \"Russian Federation\",\n",
    "    \"mxico\": \"Mexico\",\n",
    "    \"turkey\": \"Türkiye\",\n",
    "    \"uae\": \"United Arab Emirates\",\n",
    "    \"espaa\": \"Spain\",\n",
    "    \"uk\": \"United Kingdom\",\n",
    "}\n",
    "\n",
    "# Function to get country from location\n",
    "def get_country_from_location(location, geolocator):\n",
    "    \"\"\"\n",
    "    Extract the country name from a location string.\n",
    "    \n",
    "    Args:\n",
    "    location (str): The location string.\n",
    "    \n",
    "    Returns:\n",
    "    str: The country name if found, else None.\n",
    "    \"\"\"\n",
    "    def strip_special_characters(text):\n",
    "        # Use regular expression to remove special characters\n",
    "        return re.sub(r'[^a-zA-Z\\s]', '', text)\n",
    "\n",
    "    def get_official_country_name(country_name):\n",
    "        for country in pycountry.countries:\n",
    "            if country_name.lower() in country.name.lower():\n",
    "                return country.name\n",
    "        return None\n",
    "\n",
    "    # Split the location into parts by commas and optional spaces\n",
    "    parts = re.split(r',\\s*', location)\n",
    "\n",
    "    # Check each part in reverse order to match a country name or alpha_2 code\n",
    "    for part in parts:\n",
    "        part = strip_special_characters(part).strip().lower()\n",
    "        \n",
    "        # Check manual corrections first\n",
    "        if part in manual_corrections:\n",
    "            return manual_corrections[part]\n",
    "        \n",
    "        # Try to match country name with pycountry\n",
    "        try:\n",
    "            country = pycountry.countries.lookup(part)\n",
    "            return country.name\n",
    "        except LookupError:\n",
    "            continue\n",
    "    \n",
    "    for part in parts:\n",
    "        part = strip_special_characters(part).strip().lower()\n",
    "        # Try to match country name with geolocator\n",
    "        try:\n",
    "            # Geocode the city name\n",
    "            location = geolocator.geocode(part, timeout=1)\n",
    "            # If location is found, return the country\n",
    "            if location:\n",
    "                location = location.address.split(\",\")[-1].strip()\n",
    "                country = pycountry.countries.lookup(location)\n",
    "                return country.name\n",
    "            else:\n",
    "                continue\n",
    "        except (GeocoderTimedOut, GeocoderUnavailable, TimeoutError):\n",
    "            # In case of a timeout, retry after a short delay\n",
    "            continue\n",
    "        except LookupError:\n",
    "            return location\n",
    "    \n",
    "    # If no part matches a country, return None\n",
    "    return \"Unknown\"\n",
    "\n",
    "# File path for the location-country mapping CSV\n",
    "mapping_file_path = 'models/location_country_mapping.csv'\n",
    "\n",
    "# Load existing mappings if available\n",
    "try:\n",
    "    existing_mappings = pd.read_csv(mapping_file_path)\n",
    "    location_to_country = dict(zip(existing_mappings['Location'], existing_mappings['Country']))\n",
    "    loaded_mappings = True\n",
    "except FileNotFoundError:\n",
    "    location_to_country = {}\n",
    "    loaded_mappings = False\n",
    "\n",
    "# Initialize the geolocator\n",
    "geolocator = Nominatim(user_agent=\"city-to-country-mapper\")\n",
    "\n",
    "# Map each location to its country, checking existing mappings first\n",
    "def map_location_to_country(location):\n",
    "    if location in location_to_country:\n",
    "        return location_to_country[location]\n",
    "    country = get_country_from_location(location, geolocator)\n",
    "    location_to_country[location] = country\n",
    "    return country\n",
    "\n",
    "users['Country'] = users['Location'].apply(map_location_to_country)\n",
    "\n",
    "# Save the updated location-country mapping to CSV\n",
    "updated_mappings = pd.DataFrame(list(location_to_country.items()), columns=['Location', 'Country'])\n",
    "updated_mappings.to_csv(mapping_file_path, index=False)\n",
    "\n",
    "# Print the results\n",
    "print(\"All countries with people:\\n\\n\", users[users[\"Country\"] != \"Unknown\"]['Country'].unique().tolist())\n",
    "print(\"\\n\\nUnmapped locations:\\n\\n\", users[users[\"Country\"] == \"Unknown\"]['Location'].unique().tolist())\n",
    "\n",
    "# Save the updated mappings for next time\n",
    "if loaded_mappings is False:\n",
    "    users[[\"Location\", \"Country\"]].to_csv(\"users.csv\", index=False)\n",
    "\n",
    "users = users.drop(columns=['Location'])"
   ],
   "id": "473a474ed5649a68",
   "outputs": [
    {
     "name": "stdout",
     "output_type": "stream",
     "text": [
      "All countries with people:\n",
      "\n",
      " ['United States', 'Russian Federation', 'Portugal', 'United Kingdom', 'Canada', 'Spain', 'Australia', 'Brazil', 'Germany', 'Mexico', 'Namibia', 'Italy', 'France', 'Georgia', nan, 'Iraq', 'Finland', 'New Zealand', 'India', 'Ghana', 'Netherlands', \"Lao People's Democratic Republic\", 'Iran, Islamic Republic of', 'Peru', 'Viet Nam', 'Sri Lanka', 'Pakistan', 'Belgium', 'Malaysia', 'United Arab Emirates', 'Türkiye', 'Greece', 'Colombia', 'Norway', 'Kuwait', 'Chile', 'Denmark', 'Sweden', 'Philippines', 'Switzerland', 'Argentina', 'Nigeria', 'Bulgaria', 'Austria', 'Singapore', 'Albania', 'Egypt', 'Tunisia', 'Uzbekistan', 'Qatar', 'Syrian Arab Republic', 'China', 'Saudi Arabia', 'Indonesia', 'Iceland', 'Romania', 'Sudan', 'Macao', 'Thailand', 'Ireland', 'Éire / Ireland', 'Venezuela, Bolivarian Republic of', 'Paraguay', 'Mozambique', 'Morocco', 'Estonia', 'Benin', 'España', 'Österreich', 'Serbia', 'Taiwan, Province of China', 'Poland', 'Slovakia', 'Costa Rica', 'Virgin Islands, British', 'Ethiopia', 'Србија', 'Қазақстан', 'Japan', 'Antigua and Barbuda', 'Croatia', 'San Marino', 'Italia', 'Jordan', 'Gambia', 'South Africa', 'Algeria', 'Cuba', 'Deutschland', 'Puerto Rico', 'Hong Kong', 'Latvia', 'Jersey', 'New Zealand / Aotearoa', 'Lebanon', 'Belarus', 'Uganda', 'Israel', 'Guyana', 'Bosnia and Herzegovina', 'Ελλάς', 'Angola', 'Luxembourg', 'Panama', 'Botswana', 'Malta', 'مصر', 'Tanzania, United Republic of', 'Bangladesh', 'Dominican Republic', 'México', 'Bahrain', 'Uruguay', 'Honduras', 'Dominica', 'Bolivia, Plurinational State of', 'Norge', 'Sierra Leone', 'Guatemala', 'Mali', 'Czechia', 'Korea, Republic of', 'Slovenia', 'Jamaica', 'Pilipinas', 'Kazakhstan', 'Liechtenstein', 'Eritrea', 'Bahamas', 'Cameroon', 'Nederland', 'Nicaragua', 'Trinidad and Tobago', 'België / Belgique / Belgien', 'Montserrat', 'ישראל', 'South Sudan', 'Northern Mariana Islands', 'Moldova, Republic of', 'El Salvador', 'Crna Gora / Црна Гора', 'Guernsey', 'România', 'Mongolia', 'Bermuda', 'Isle of Man', 'Barbados', 'Seychelles', 'Grenada', 'السودان', 'Armenia', 'Hungary', 'Ecuador', 'Cayman Islands', 'Danmark', 'Montenegro', 'Marshall Islands', 'Lithuania', 'Holy See (Vatican City State)', 'Brasil', 'Andorra', 'Bosna i Hercegovina / Босна и Херцеговина', 'Saint Barthélemy', 'ශ්\\u200dරී ලංකාව இலங்கை', 'Azerbaijan', 'Afghanistan', 'Pitcairn', 'Réunion', 'Kosova / Kosovo', 'Somalia', 'República Dominicana', 'Saint Lucia', 'Cyprus', 'Brunei', 'Kenya', 'السعودية', 'Tonga', 'Tajikistan', 'Maroc ⵍⵎⵖⵔⵉⴱ المغرب', 'Belize', '中国', 'Nepal', 'Côte d’Ivoire', 'Oman', 'Antarctica', 'Palau', 'ព្រះរាជាណាចក្រ\\u200bកម្ពុជា', 'Suriname', 'Yemen', 'Saint Helena, Ascension and Tristan da Cunha', 'Myanmar', 'Guam', 'Sverige', 'Senegal', 'Polska', 'Россия', 'Zimbabwe', 'Hrvatska', 'New Caledonia', 'Burkina Faso', 'Madagasikara / Madagascar', 'الإمارات العربية المتحدة', 'Viti', 'Fiji', 'Ukraine', 'Togo', 'Papua New Guinea', 'Åland Islands', 'Gabon', 'Saint Vincent and the Grenadines', 'Latvija', 'Congo, The Democratic Republic of the', 'မြန်မာ', 'Greenland', 'Bhutan', 'Mauritius', 'Suomi / Finland', 'Schweiz/Suisse/Svizzera/Svizra', 'Solomon Islands', 'Северна Македонија', 'Madagascar', \"Korea, Democratic People's Republic of\", 'Virgin Islands, U.S.', 'پاکستان', '대한민국', 'Perú', 'Samoa', 'Svalbard and Jan Mayen', 'Gibraltar', 'Slovenija', '日本', 'Malawi', 'Ayiti', 'Monaco', 'Slovensko', 'Libya', 'Україна', 'ኢትዮጵያ', 'Zambia', 'Brunei Darussalam', 'Lesotho', 'Comoros', 'Eswatini', 'North Macedonia', 'Magyarország', 'تونس', 'Chad', 'Djibouti', 'Ṃajeḷ', 'Bouvet Island', 'Liberia', 'American Samoa', 'Congo', 'Burundi', 'Česko', 'عمان', 'ایران', 'Kyrgyzstan', 'Cambodia', 'Vanuatu', 'Niger', 'বাংলাদেশ', '臺灣', 'Cabo Verde', 'اليمن', 'नेपाल', 'Azərbaycan', 'Cocos (Keeling) Islands', 'Algérie ⵍⵣⵣⴰⵢⴻⵔ الجزائر', 'Saint Kitts and Nevis', 'Moçambique', 'Sao Tome and Principe', 'لبنان', 'République démocratique du Congo', 'Eesti', 'ދިވެހިރާއްޖެ', 'Christmas Island', 'Turkmenistan', 'Norfolk Island', 'Tuvalu', 'Faroe Islands', 'العراق', 'Guinea', 'ประเทศไทย', 'Oʻzbekiston', 'Aruba', 'Martinique', 'Mauritania', 'Tchad تشاد', 'Niue', 'Guadeloupe', 'French Polynesia', 'Maldives', 'Việt Nam', 'الأردن', 'Rwanda', 'Uruguá', 'Mayotte', 'Nauru']\n",
      "\n",
      "\n",
      "Unmapped locations:\n",
      "\n",
      " []\n"
     ]
    }
   ],
   "execution_count": 162
  },
  {
   "metadata": {},
   "cell_type": "markdown",
   "source": "## Step 4: Visualizations",
   "id": "97edfd7ac09c18fd"
  },
  {
   "metadata": {},
   "cell_type": "markdown",
   "source": "Distribution of Book Ratings",
   "id": "e6a6c86e677d81cd"
  },
  {
   "metadata": {
    "ExecuteTime": {
     "end_time": "2024-07-31T02:02:16.927137Z",
     "start_time": "2024-07-31T02:02:16.612824Z"
    }
   },
   "cell_type": "code",
   "source": [
    "# Visualizing the distribution of book ratings\n",
    "plt.figure(figsize=(10, 6))\n",
    "sns.histplot(ratings['Book-Rating'], bins=10, kde=False, color='blue')\n",
    "plt.title('Distribution of Book Ratings')\n",
    "plt.xlabel('Rating')\n",
    "plt.ylabel('Count')\n",
    "plt.show()\n"
   ],
   "id": "8f94527db61d668a",
   "outputs": [
    {
     "data": {
      "text/plain": [
       "<Figure size 1000x600 with 1 Axes>"
      ],
      "image/png": "[encoded data removed]"
     },
     "metadata": {},
     "output_type": "display_data"
    }
   ],
   "execution_count": 163
  },
  {
   "metadata": {},
   "cell_type": "markdown",
   "source": "Distribution of User Ages\n",
   "id": "14c83e477a64eb0d"
  },
  {
   "metadata": {
    "ExecuteTime": {
     "end_time": "2024-07-31T02:02:17.071805Z",
     "start_time": "2024-07-31T02:02:16.929516Z"
    }
   },
   "cell_type": "code",
   "source": [
    "# Visualizing the distribution of user ages\n",
    "plt.figure(figsize=(10, 6))\n",
    "sns.histplot(users['Age'].dropna(), bins=30, kde=False, color='green')\n",
    "plt.title('Distribution of User Ages')\n",
    "plt.xlabel('Age')\n",
    "plt.ylabel('Count')\n",
    "plt.show()\n"
   ],
   "id": "8375470fb9dfbf4e",
   "outputs": [
    {
     "data": {
      "text/plain": [
       "<Figure size 1000x600 with 1 Axes>"
      ],
      "image/png": "[encoded data removed]"
     },
     "metadata": {},
     "output_type": "display_data"
    }
   ],
   "execution_count": 164
  },
  {
   "metadata": {},
   "cell_type": "markdown",
   "source": "Top Publishers\n",
   "id": "a82ebb9d836cf70b"
  },
  {
   "metadata": {
    "ExecuteTime": {
     "end_time": "2024-07-31T02:02:17.172722Z",
     "start_time": "2024-07-31T02:02:17.072443Z"
    }
   },
   "cell_type": "code",
   "source": [
    "# Visualizing the top publishers\n",
    "plt.figure(figsize=(10, 6))\n",
    "top_publishers = books['Publisher'].value_counts().head(10)\n",
    "sns.barplot(x=top_publishers.values, y=top_publishers.index, palette='viridis', hue=top_publishers.index)\n",
    "plt.title('Top 10 Publishers')\n",
    "plt.xlabel('Count')\n",
    "plt.ylabel('Publisher')\n",
    "plt.show()\n"
   ],
   "id": "aae59a6dda12070",
   "outputs": [
    {
     "data": {
      "text/plain": [
       "<Figure size 1000x600 with 1 Axes>"
      ],
      "image/png": "[encoded data removed]"
     },
     "metadata": {},
     "output_type": "display_data"
    }
   ],
   "execution_count": 165
  },
  {
   "metadata": {},
   "cell_type": "markdown",
   "source": "Top Countries",
   "id": "e63f88839c4d9009"
  },
  {
   "metadata": {
    "ExecuteTime": {
     "end_time": "2024-07-31T02:02:17.287689Z",
     "start_time": "2024-07-31T02:02:17.173391Z"
    }
   },
   "cell_type": "code",
   "source": [
    "# Visualize the top 10 most frequent countries\n",
    "top_countries = users['Country'].value_counts().head(10)\n",
    "\n",
    "plt.figure(figsize=(12, 8))\n",
    "sns.barplot(x=top_countries.values, y=top_countries.index, palette=\"viridis\", hue=top_countries.index)\n",
    "plt.title('Top 10 Most Frequent Countries')\n",
    "plt.xlabel('Frequency')\n",
    "plt.ylabel('Country')"
   ],
   "id": "6230ac5c2a576fd1",
   "outputs": [
    {
     "data": {
      "text/plain": [
       "Text(0, 0.5, 'Country')"
      ]
     },
     "execution_count": 166,
     "metadata": {},
     "output_type": "execute_result"
    },
    {
     "data": {
      "text/plain": [
       "<Figure size 1200x800 with 1 Axes>"
      ],
      "image/png": "[encoded data removed]"
     },
     "metadata": {},
     "output_type": "display_data"
    }
   ],
   "execution_count": 166
  },
  {
   "metadata": {},
   "cell_type": "markdown",
   "source": "### Join Books with Ratings to Check Best Rated Books",
   "id": "e1a364a496842ae8"
  },
  {
   "metadata": {
    "ExecuteTime": {
     "end_time": "2024-07-31T02:02:18.148046Z",
     "start_time": "2024-07-31T02:02:17.288324Z"
    }
   },
   "cell_type": "code",
   "source": [
    "ratings_books = ratings.merge(books, on='ISBN')\n",
    "\n",
    "print(\"Check null column counts to see that all book ratings match to actual books:\\n\", ratings_books.isnull().sum())\n",
    "\n",
    "# Calculate the average rating for each book\n",
    "book_popularity = ratings_books.groupby('ISBN').agg({'Book-Rating': 'mean', 'ISBN': 'count'}).rename(columns={'Book-Rating': 'average_rating', 'ISBN': 'rating_count'})\n",
    "\n",
    "# Sort by the highest average rating and most ratings\n",
    "top_books = book_popularity[book_popularity[\"average_rating\"] == 10.0].reset_index()\n",
    "\n",
    "# Merge with the books dataframe to get book information\n",
    "top_books_info = top_books.merge(books, on='ISBN')\n",
    "\n",
    "# Display top books with their information\n",
    "print(\"\\nThe highest rated books:\\n\", top_books_info)"
   ],
   "id": "8e892de1d88c7a7d",
   "outputs": [
    {
     "name": "stdout",
     "output_type": "stream",
     "text": [
      "Check null column counts to see that all book ratings match to actual books:\n",
      " User-ID                0\n",
      "ISBN                   0\n",
      "Book-Rating            0\n",
      "Book-Title             0\n",
      "Book-Author            2\n",
      "Year-Of-Publication    0\n",
      "Publisher              2\n",
      "dtype: int64\n",
      "\n",
      "The highest rated books:\n",
      "              ISBN  average_rating  rating_count                                         Book-Title              Book-Author  Year-Of-Publication                      Publisher\n",
      "0      0001360469            10.0             1                                      Babe Dressing            Mandy Stanley                 1997       HarperCollins Publishers\n",
      "1      0001374869            10.0             1       Baby Plays (Collins Baby and Toddler Series)            Fiona Pragoff                 1994       HarperCollins Publishers\n",
      "2      0001821326            10.0             1  Paddington at the Tower (A Paddington Picture ...             Michael Bond                 1976                         Collin\n",
      "3      0001845039            10.0             1                                The Moon of Gomrath              Alan Garner                 1983       HarperCollins Publishers\n",
      "4      0001857258            10.0             1                      Little Wolf's Book of Badness              Ian Whybrow                 1999                        Collins\n",
      "...           ...             ...           ...                                                ...                      ...                  ...                            ...\n",
      "13107  B00005UMI4            10.0             1                       Desecration:  Left Behind #9               Tim LaHaye                    0                    Left Behind\n",
      "13108  B00008RWPV            10.0             1                                   McNally's Chance         Lawrence Sanders                 2001               Putnam Pub Group\n",
      "13109  B0000DAOHN            10.0             1                                         Hard Eight          Janet Evanovich                 2002             St. Martin's Press\n",
      "13110  B0000VZEJQ            10.0             1                      Roald Dahl's Revolting Rhymes               Roald Dahl                 2002  Knopf Books for Young Readers\n",
      "13111  B0001I1KOG            10.0             1       New York Public Library Literature Companion  New York Public Library                 2001                     Free Press\n",
      "\n",
      "[13112 rows x 7 columns]\n"
     ]
    }
   ],
   "execution_count": 167
  },
  {
   "metadata": {},
   "cell_type": "markdown",
   "source": "### Examine the Best/Worst Rated Books",
   "id": "e419f2287e409bdb"
  },
  {
   "metadata": {
    "ExecuteTime": {
     "end_time": "2024-07-31T02:02:18.437392Z",
     "start_time": "2024-07-31T02:02:18.148875Z"
    }
   },
   "cell_type": "code",
   "source": [
    "# Calculate the highest-rated authors\n",
    "rated_authors = ratings_books.groupby('Book-Author').agg({'Book-Rating': 'mean', 'Book-Author': 'count'}).rename(columns={'Book-Rating': 'average_rating', 'Book-Author': 'book_count'})\n",
    "highest_rated_authors = rated_authors[rated_authors[\"average_rating\"] >= 10].sort_values(by=['average_rating', 'book_count'], ascending=[False, False]).reset_index()\n",
    "lowest_rated_authors = rated_authors[rated_authors[\"average_rating\"] <= 0].sort_values(by=['average_rating', 'book_count'], ascending=[True, False]).reset_index()\n",
    "\n",
    "# Display top authors with their average ratings\n",
    "print(\"\\nThe highest rated authors:\\n\", highest_rated_authors)\n",
    "print(\"\\nThe lowest rated authors:\\n\", lowest_rated_authors)\n",
    "\n",
    "# Calculate the highest-rated publishers\n",
    "rated_publishers = ratings_books.groupby('Publisher').agg({'Book-Rating': 'mean', 'Publisher': 'count'}).rename(columns={'Book-Rating': 'average_rating', 'Publisher': 'book_count'})\n",
    "highest_rated_publishers = rated_publishers[rated_publishers[\"average_rating\"] >= 10].sort_values(by=['average_rating', 'book_count'], ascending=[False, False]).reset_index()\n",
    "lowest_rated_publishers = rated_publishers[rated_publishers[\"average_rating\"] <= 0].sort_values(by=['average_rating', 'book_count'], ascending=[True, False]).reset_index()\n",
    "\n",
    "# Display top publishers with their average ratings\n",
    "print(\"\\nThe highest rated publishers:\\n\", highest_rated_publishers)\n",
    "print(\"\\nThe lowest rated publishers:\\n\", lowest_rated_publishers)"
   ],
   "id": "a6aec1da903c9713",
   "outputs": [
    {
     "name": "stdout",
     "output_type": "stream",
     "text": [
      "\n",
      "The highest rated authors:\n",
      "                           Book-Author  average_rating  book_count\n",
      "0                      Michiro Ueyama            10.0          13\n",
      "1                    David R. Hawkins            10.0           7\n",
      "2                         Dick Dudley            10.0           6\n",
      "3     Federal Aviation Administration            10.0           6\n",
      "4                Laura Numeroff Joffe            10.0           6\n",
      "...                               ...             ...         ...\n",
      "5012                 Zohra Greenhalgh            10.0           1\n",
      "5013                    e.e. cummings            10.0           1\n",
      "5014                    johanna spyri            10.0           1\n",
      "5015               of Padua Marsilius            10.0           1\n",
      "5016                  retold by Dandi            10.0           1\n",
      "\n",
      "[5017 rows x 3 columns]\n",
      "\n",
      "The lowest rated authors:\n",
      "                Book-Author  average_rating  book_count\n",
      "0             Dick Stivers             0.0          60\n",
      "1           Yvonne Whittal             0.0          37\n",
      "2           Annabel Murray             0.0          24\n",
      "3               Bruce Nash             0.0          20\n",
      "4                Eric Helm             0.0          20\n",
      "...                    ...             ...         ...\n",
      "39471    romesh Gunesekera             0.0           1\n",
      "39472         suso de Toro             0.0           1\n",
      "39473    tracie j peterson             0.0           1\n",
      "39474                 wass             0.0           1\n",
      "39475  william a. haviland             0.0           1\n",
      "\n",
      "[39476 rows x 3 columns]\n",
      "\n",
      "The highest rated publishers:\n",
      "                              Publisher  average_rating  book_count\n",
      "0           ABC/The All Children's Co.            10.0           7\n",
      "1                          Ariel Press            10.0           6\n",
      "2                            Shoreline            10.0           6\n",
      "3                  World Tribune Press            10.0           6\n",
      "4    Aviation Supplies &amp; Academics            10.0           5\n",
      "..                                 ...             ...         ...\n",
      "961                      Zossima Press            10.0           1\n",
      "962                      authorsonline            10.0           1\n",
      "963  distributed by Simon and Schuster            10.0           1\n",
      "964                     iUniverse Star            10.0           1\n",
      "965                Ã?ditions de minuit            10.0           1\n",
      "\n",
      "[966 rows x 3 columns]\n",
      "\n",
      "The lowest rated publishers:\n",
      "                              Publisher  average_rating  book_count\n",
      "0                   Harlequin Presents             0.0          22\n",
      "1             Schofield &amp; Sims Ltd             0.0          19\n",
      "2           Little Brown &amp; Co (Jt)             0.0          15\n",
      "3            Critics Choice Paperbacks             0.0          12\n",
      "4                              Fodor's             0.0          12\n",
      "...                                ...             ...         ...\n",
      "5147           Ã?ditions Hurtubise HMH             0.0           1\n",
      "5148  Ã?sterreichische Staatsdruckerei             0.0           1\n",
      "5149    Ã?sterreichischer Bundesverlag             0.0           1\n",
      "5150                 Ã?Â?ditions 10/18             0.0           1\n",
      "5151                    Ã?Â¶bv&amp;hpt             0.0           1\n",
      "\n",
      "[5152 rows x 3 columns]\n"
     ]
    }
   ],
   "execution_count": 168
  },
  {
   "metadata": {},
   "cell_type": "markdown",
   "source": [
    "## Feature Importance Hypothesis\n",
    "\n",
    "- **User Age:** Age might influence book preferences.\n",
    "- **Book Author and Publisher:** Popular authors and publishers might have higher ratings.\n",
    "- **User Location:** Geographical location might impact book preferences.\n",
    "\n",
    "These hypotheses will be validated during the model building and evaluation phase.\n"
   ],
   "id": "45895bcb1e5162c6"
  },
  {
   "metadata": {},
   "cell_type": "markdown",
   "source": [
    "## Conclusion of EDA\n",
    "\n",
    "### Data Purity and Concerns\n",
    "The main areas of concern after EDA is that our only knowledge about the users is 'age' and 'location', but 'age' has 40% null and location is inconsistent. So we will need to be careful about how we map users together.\n",
    "Additionally, the rating data is split between 'explicit' (1-10) [user chose the rating] ratings and implicit (0, 5, 10) [system chose based on action] depending on the data source. So we will likely need to run our models on both rating types.\n",
    "\n",
    "### Distribution of Book Ratings\n",
    "The distribution of book ratings is highly skewed, with the majority of ratings being zero. This indicates that many users have rated very few books.\n",
    "\n",
    "### Distribution of User Ages\n",
    "The age distribution of users shows a diverse range of ages, with notable peaks in the 21-30 and 31-40 age groups. Additionally, a significant portion of the users did not provide their age, which is represented as 'Unknown'.\n",
    "\n",
    "### Top Publishers\n",
    "The dataset contains books from a wide variety of publishers. The top 10 publishers, led by Harlequin, have published a significant number of books in the dataset.\n",
    "\n",
    "### Top Countries\n",
    "The dataset contains books from all over the world, but it skews heavily towards USA.\n",
    "\n",
    "### Best/Worst Rated Books\n",
    "Many tens of thousands of books only have 10 or 0 for their rating. In fact, many tens of thousands of Publishers have only ever received a 0 or 10 for all of their books.\n",
    "So the rating system may not be perfectly capturing a varied opinion on the books and likely have small sample sizes.\n",
    "\n",
    "\n",
    "### Summary of Findings\n",
    "Book Ratings Distribution: The ratings data is heavily skewed towards zero, suggesting that a large number of users have not rated many books. This could impact the recommendation system, and we may need to consider strategies to handle this sparsity.\n",
    "\n",
    "### User Distribution: \n",
    "The age data is diverse but has a significant number of missing values. For those who provided their age, the majority fall into the 21-30 and 31-40 age brackets. This information might help in understanding user preferences based on age groups. We have shifted the location granularity to country and will try to use that as a feature.\n",
    "\n",
    "### Top Publishers: \n",
    "Harlequin is the most prolific publisher in the dataset, followed by Silhouette and Pocket. Understanding the distribution of publishers can help in identifying popular books and trends.\n",
    "\n",
    "### Next Steps\n",
    "Based on the insights from the EDA, the next steps will involve:\n",
    "\n",
    "Handling missing values [especially with age] and outliers in the dataset.\n",
    "Exploring various unsupervised learning techniques, such as clustering, to group similar books and users.\n",
    "Building a book recommendation system and evaluating its performance.\n",
    "By addressing these aspects, we can ensure that our recommendation system is robust and effective in providing meaningful recommendations to users.\n"
   ],
   "id": "510ec22bbfc22b1a"
  },
  {
   "metadata": {},
   "cell_type": "markdown",
   "source": "# Step 5: Analysis Using Unsupervised ML Models",
   "id": "5fdfb6924f65032d"
  },
  {
   "metadata": {},
   "cell_type": "markdown",
   "source": "Filter our data ",
   "id": "fbccfd097a4bcba3"
  },
  {
   "metadata": {},
   "cell_type": "markdown",
   "source": "First create a rating_matrix",
   "id": "8c406fd02aefbc8"
  },
  {
   "metadata": {
    "ExecuteTime": {
     "end_time": "2024-07-31T02:02:23.102872Z",
     "start_time": "2024-07-31T02:02:18.438244Z"
    }
   },
   "cell_type": "code",
   "source": [
    "# Merge ratings with books and users data\n",
    "ratings = ratings.merge(books, on='ISBN', how='left')\n",
    "ratings = ratings.merge(users, on='User-ID', how='left')\n",
    "\n",
    "# Fill missing ratings with the mean rating of each user\n",
    "ratings['Book-Rating'] = ratings.groupby('User-ID')['Book-Rating'].transform(lambda x: x.fillna(x.mean()))\n",
    "\n",
    "# Split the ratings data into train and test\n",
    "train, test = train_test_split(ratings, test_size=0.2, random_state=42)\n",
    "\n",
    "# Normalize ratings by subtracting mean user ratings\n",
    "def normalize_ratings(rating_matrix_df):\n",
    "    return rating_matrix_df.apply(lambda x: x - x.mean(), axis=1)\n",
    "\n",
    "def filter_out_books_in_training(train_):\n",
    "    \"\"\"\n",
    "    Filter out books and users that do not have enough ratings.\n",
    "\n",
    "    Args:\n",
    "    train_ (pd.DataFrame): The training data.\n",
    "\n",
    "    Returns:\n",
    "    pd.DataFrame: Filtered training data.\n",
    "    \"\"\"\n",
    "    # Books that have not been rated enough times will not be used in training\n",
    "    book_ratings_count = train_.groupby('Book-Title').count()['Book-Rating']\n",
    "    popular_books = book_ratings_count[book_ratings_count >= 200].index\n",
    "    train_ = train_[train_['Book-Title'].isin(popular_books)]\n",
    "    \n",
    "    # Users who have not rated enough books will not have their ratings used in training\n",
    "    user_ratings_count = train.groupby('User-ID').count()['Book-Rating']\n",
    "    active_users = user_ratings_count[user_ratings_count > 5].index\n",
    "    train_ = train_[train_['User-ID'].isin(active_users)]\n",
    "    \n",
    "    print(\"Number of Ratings in Filtered Train:\\n\", len(train_.index))\n",
    "    \n",
    "    return train_\n",
    "\n",
    "def get_rating_matrix_df(train_, filtered=False):\n",
    "    \"\"\"\n",
    "    Create and return a rating matrix DataFrame, optionally filtered and saved as a Parquet file.\n",
    "\n",
    "    Args:\n",
    "    train_ (pd.DataFrame): The training data.\n",
    "    filtered (bool): Flag to determine if the data should be filtered.\n",
    "\n",
    "    Returns:\n",
    "    pd.DataFrame: The rating matrix DataFrame.\n",
    "    \"\"\"\n",
    "    if filtered:\n",
    "        parquet_file_path = \"models/rating_matrix_filtered.parquet\"\n",
    "    else:\n",
    "        parquet_file_path = \"models/rating_matrix.parquet\"\n",
    "    \n",
    "    # Check if the Parquet file already exists\n",
    "    if os.path.exists(parquet_file_path):\n",
    "        # Load the pivot table from the Parquet file\n",
    "        rating_matrix_df = pd.read_parquet(parquet_file_path)\n",
    "    else:\n",
    "        # Create the utility matrix for collaborative filtering, filling missing values with the mean rating of each user\n",
    "        if filtered:\n",
    "            train_ = filter_out_books_in_training(train_)\n",
    "        rating_matrix_df = train_.pivot(index='User-ID', columns='ISBN', values='Book-Rating')\n",
    "        # rating_matrix_df = rating_matrix_df.apply(lambda x: x.fillna(5), axis=1)\n",
    "        rating_matrix_df = rating_matrix_df.apply(lambda x: x.fillna(x.mean()), axis=1)\n",
    "                \n",
    "        # Save the pivot table to a Parquet file for faster loading next time\n",
    "        rating_matrix_df.to_parquet(parquet_file_path)\n",
    "        \n",
    "    return rating_matrix_df\n",
    "\n",
    "def get_rating_matrix_sparse(df_):\n",
    "    # Convert the DataFrame to a sparse matrix\n",
    "    return csr_matrix(df_.values)"
   ],
   "id": "378045e5fccd31c2",
   "outputs": [],
   "execution_count": 169
  },
  {
   "metadata": {},
   "cell_type": "markdown",
   "source": "",
   "id": "c2a17c3005723b1f"
  },
  {
   "metadata": {
    "ExecuteTime": {
     "end_time": "2024-07-31T02:02:23.106744Z",
     "start_time": "2024-07-31T02:02:23.103553Z"
    }
   },
   "cell_type": "code",
   "source": [
    "from sklearn.metrics import root_mean_squared_error, mean_absolute_error, precision_score, recall_score, f1_score\n",
    "\n",
    "\n",
    "# Create a model evaluation function\n",
    "def evaluate_model(cf_model, test):\n",
    "    y_true = []\n",
    "    y_pred = []\n",
    "    \n",
    "    # Iterate through the test set\n",
    "    for _, row in test.iterrows():\n",
    "        user_id = row['User-ID']\n",
    "        book_id = row['ISBN']\n",
    "        true_rating = row['Book-Rating']\n",
    "        predicted_rating = cf_model.predict_rating(user_id, book_id)\n",
    "        \n",
    "        # Collect ratings if the prediction is valid\n",
    "        if not np.isnan(predicted_rating):\n",
    "            y_true.append(true_rating)\n",
    "            y_pred.append(predicted_rating)\n",
    "    \n",
    "    # Calculate RMSE\n",
    "    rmse = np.sqrt(root_mean_squared_error(y_true, y_pred))\n",
    "    # Calculate MAE\n",
    "    mae = mean_absolute_error(y_true, y_pred)\n",
    "    \n",
    "    # Convert true and predicted ratings to binary relevance for precision and recall\n",
    "    y_true_binary = [1 if rating >= 4 else 0 for rating in y_true]\n",
    "    y_pred_binary = [1 if rating >= 4 else 0 for rating in y_pred]\n",
    "    \n",
    "    # Calculate Precision\n",
    "    precision = precision_score(y_true_binary, y_pred_binary, zero_division=1)\n",
    "    # Calculate Recall\n",
    "    recall = recall_score(y_true_binary, y_pred_binary, zero_division=1)\n",
    "    # Calculate F1-score\n",
    "    f1 = f1_score(y_true_binary, y_pred_binary, zero_division=1)\n",
    "    \n",
    "    # Return results as a dictionary\n",
    "    return {\n",
    "        'rmse': rmse,\n",
    "        'mae': mae,\n",
    "        'precision': precision,\n",
    "        'recall': recall,\n",
    "        'f1_score': f1\n",
    "    }\n",
    "\n",
    "# accounts/views.py\n",
    "def print_evaluation_metrics(model_name, evaluation):\n",
    "    # Print the evaluation metrics with appropriate formatting\n",
    "    print(f\"{model_name} Evaluation Metrics:\")\n",
    "    print(f\"{'Root Mean Squared Error (RMSE):':<30} {evaluation['rmse']:.2f}\")\n",
    "    print(f\"{'Mean Absolute Error (MAE):':<30} {evaluation['mae']:.2f}\")\n",
    "    print(f\"{'Precision:':<30} {evaluation['precision']:.2%}\")\n",
    "    print(f\"{'Recall:':<30} {evaluation['recall']:.2%}\")\n",
    "    print(f\"{'F1-score:':<30} {evaluation['f1_score']:.2%}\")\n",
    "    print(\"-\" * 40)"
   ],
   "id": "a281c2e20f65b6b0",
   "outputs": [],
   "execution_count": 170
  },
  {
   "metadata": {
    "ExecuteTime": {
     "end_time": "2024-07-31T02:02:31.600777Z",
     "start_time": "2024-07-31T02:02:23.107514Z"
    }
   },
   "cell_type": "code",
   "source": [
    "class CollaborativeFiltering:\n",
    "    def __init__(self, train_, similarity_file='models/user_similarity.pkl'):\n",
    "        self.rating_matrix_df = get_rating_matrix_df(train_, filtered=True)  # DataFrame for index lookups\n",
    "        self.rating_matrix_df = normalize_ratings(self.rating_matrix_df)\n",
    "        self.rating_matrix_sparse = get_rating_matrix_sparse(self.rating_matrix_df)  # Sparse matrix for calculations\n",
    "\n",
    "        self.similarity_file = similarity_file\n",
    "\n",
    "        # Check if the user similarity matrix is already saved\n",
    "        try:\n",
    "            self.user_similarity = joblib.load(similarity_file)\n",
    "            print(\"User similarity matrix loaded from file.\")\n",
    "        except:\n",
    "            print(\"Calculating user similarity matrix...\")\n",
    "            # Compute the user similarity matrix using cosine similarity on sparse matrix\n",
    "            self.user_similarity = cosine_similarity(self.rating_matrix_sparse)\n",
    "            # Fill diagonal with zeros to avoid self-recommendation\n",
    "            np.fill_diagonal(self.user_similarity, 0)\n",
    "            # Save the similarity matrix to disk\n",
    "            joblib.dump(self.user_similarity, similarity_file)\n",
    "            print(\"User similarity matrix saved to file.\")\n",
    "\n",
    "    def predict_rating(self, user_id, book_id):\n",
    "        # Check if the user and book are in the training data\n",
    "        if user_id not in self.rating_matrix_df.index or book_id not in self.rating_matrix_df.columns:\n",
    "            return np.nan\n",
    "        # Get the index of the user and book\n",
    "        user_index = self.rating_matrix_df.index.get_loc(user_id)\n",
    "        book_index = self.rating_matrix_df.columns.get_loc(book_id)\n",
    "        # Get the similarity scores for this user\n",
    "        similarity_scores = self.user_similarity[user_index]\n",
    "        # Get the ratings for the target book from all users\n",
    "        book_ratings = self.rating_matrix_df.iloc[:, book_index].values\n",
    "        # Mask to consider only users who have rated the book\n",
    "        mask = book_ratings != 0\n",
    "        # Calculate the weighted sum of ratings\n",
    "        weighted_sum = np.dot(similarity_scores[mask], book_ratings[mask])\n",
    "        # Sum of similarities\n",
    "        sum_of_similarities = np.sum(similarity_scores[mask])\n",
    "        if sum_of_similarities == 0:\n",
    "            return np.nan\n",
    "        # Predicted rating\n",
    "        predicted_rating = weighted_sum / sum_of_similarities\n",
    "        return predicted_rating\n",
    "\n",
    "    def recommend(self, user_id, n_recommendations=5):\n",
    "        # Get the index of the user\n",
    "        user_index = self.rating_matrix_df.index.get_loc(user_id)\n",
    "        # Get the similarity scores for this user\n",
    "        similarity_scores = self.user_similarity[user_index]\n",
    "        # Get the indices of the most similar users\n",
    "        similar_users = similarity_scores.argsort()[::-1][:n_recommendations]\n",
    "        # Get the book ratings from similar users\n",
    "        similar_users_ratings = self.rating_matrix_df.iloc[similar_users]\n",
    "        # Compute the mean ratings for each book, ignoring 0 values\n",
    "        mean_ratings = similar_users_ratings.replace(0, np.nan).mean(axis=0)\n",
    "        # Sort the books by mean rating\n",
    "        recommended_books = mean_ratings.sort_values(ascending=False).index.tolist()\n",
    "        return recommended_books[:n_recommendations]\n",
    "\n",
    "# Instantiate the collaborative filtering model\n",
    "cf_model = CollaborativeFiltering(train)\n",
    "\n",
    "# Calculate RMSE on the test set\n",
    "collab_rmse = evaluate_model(cf_model, test)\n",
    "print(\"Accuracy Metrics for Collaborative Filtering Model on the test set:\", collab_rmse)"
   ],
   "id": "2c234999ae8d38bc",
   "outputs": [
    {
     "name": "stdout",
     "output_type": "stream",
     "text": [
      "Number of Ratings in Filtered Train:\n",
      " 48247\n",
      "Calculating user similarity matrix...\n",
      "User similarity matrix saved to file.\n",
      "Accuracy Metrics for Collaborative Filtering Model on the test set: {'rmse': np.float64(5.508627715504256), 'mae': np.float64(4.691524614677275), 'precision': np.float64(0.42105263157894735), 'recall': np.float64(0.038129282097110515), 'f1_score': np.float64(0.06992624965856323)}\n"
     ]
    }
   ],
   "execution_count": 171
  },
  {
   "metadata": {
    "ExecuteTime": {
     "end_time": "2024-07-31T02:02:34.594394Z",
     "start_time": "2024-07-31T02:02:31.601432Z"
    }
   },
   "cell_type": "code",
   "source": [
    "class GlobalAverageModel:\n",
    "    def __init__(self, train_):\n",
    "        rating_matrix_df = get_rating_matrix_df(train_, filtered=True)\n",
    "        # Flatten the DataFrame values and exclude NaNs to calculate the global mean\n",
    "        rating_matrix_flat = rating_matrix_df.values.flatten()\n",
    "        self.global_mean = np.nanmean(rating_matrix_flat)\n",
    "\n",
    "    def predict_rating(self, user_id, book_id):\n",
    "        return self.global_mean\n",
    "\n",
    "    def recommend(self, user_id, n_recommendations=5):\n",
    "        return [self.global_mean] * n_recommendations\n",
    "\n",
    "# Instantiate the global average model\n",
    "global_avg_model = GlobalAverageModel(train)\n",
    "\n",
    "# Evaluate the global average model using RMSE on the test set\n",
    "rmse_global_avg = evaluate_model(global_avg_model, test)\n",
    "print(\"Accuracy Metrics for Global Average Model on the test set:\", rmse_global_avg)"
   ],
   "id": "d7747e3ae38f37fc",
   "outputs": [
    {
     "name": "stdout",
     "output_type": "stream",
     "text": [
      "Accuracy Metrics for Global Average Model on the test set: {'rmse': np.float64(1.9866970119877823), 'mae': np.float64(3.804870943742836), 'precision': np.float64(1.0), 'recall': np.float64(0.0), 'f1_score': np.float64(0.0)}\n"
     ]
    }
   ],
   "execution_count": 172
  },
  {
   "metadata": {
    "ExecuteTime": {
     "end_time": "2024-07-31T02:02:37.813483Z",
     "start_time": "2024-07-31T02:02:34.595043Z"
    }
   },
   "cell_type": "code",
   "source": [
    "class UserAverageModel:\n",
    "    def __init__(self, train_):\n",
    "        rating_matrix_df = get_rating_matrix_df(train_, filtered=True)\n",
    "        \n",
    "        # Calculate the mean rating per user, excluding NaNs\n",
    "        self.user_means = rating_matrix_df.mean(axis=1)\n",
    "\n",
    "    def predict_rating(self, user_id, book_id):\n",
    "        if user_id in self.user_means:\n",
    "            return self.user_means[user_id]\n",
    "        else:\n",
    "            return np.nan\n",
    "\n",
    "    def recommend(self, user_id, n_recommendations=5):\n",
    "        if user_id in self.user_means:\n",
    "            return [self.user_means[user_id]] * n_recommendations\n",
    "        else:\n",
    "            return [np.nan] * n_recommendations\n",
    "\n",
    "# Instantiate the user average model\n",
    "user_avg_model = UserAverageModel(train)\n",
    "\n",
    "# Evaluate the user average model using RMSE on the test set\n",
    "rmse_user_avg = evaluate_model(user_avg_model, test)\n",
    "print(\"Accuracy Metrics for User Average Model on the test set:\", rmse_user_avg)\n"
   ],
   "id": "5f5bbfe257791acd",
   "outputs": [
    {
     "name": "stdout",
     "output_type": "stream",
     "text": [
      "Accuracy Metrics for User Average Model on the test set: {'rmse': np.float64(1.9218792764754606), 'mae': np.float64(2.7392098741506956), 'precision': np.float64(0.5668885304740919), 'recall': np.float64(0.4687793515422474), 'f1_score': np.float64(0.5131869826744127)}\n"
     ]
    }
   ],
   "execution_count": 173
  },
  {
   "metadata": {
    "ExecuteTime": {
     "end_time": "2024-07-31T02:02:40.765115Z",
     "start_time": "2024-07-31T02:02:37.814047Z"
    }
   },
   "cell_type": "code",
   "source": [
    "class ItemAverageModel:\n",
    "    def __init__(self, train_):\n",
    "        rating_matrix_df = get_rating_matrix_df(train_, filtered=True)\n",
    "        \n",
    "        # Calculate the mean rating per item (book), excluding NaNs\n",
    "        self.item_means = rating_matrix_df.mean(axis=0)\n",
    "\n",
    "    def predict_rating(self, user_id, book_id):\n",
    "        if book_id in self.item_means:\n",
    "            return self.item_means[book_id]\n",
    "        else:\n",
    "            return np.nan\n",
    "\n",
    "    def recommend(self, user_id, n_recommendations=5):\n",
    "        if book_id in self.item_means:\n",
    "            return [self.item_means[book_id]] * n_recommendations\n",
    "        else:\n",
    "            return [np.nan] * n_recommendations\n",
    "\n",
    "# Instantiate the item average model\n",
    "item_avg_model = ItemAverageModel(train)\n",
    "\n",
    "# Evaluate the item average model using RMSE on the test set\n",
    "rmse_item_avg = evaluate_model(item_avg_model, test)\n",
    "print(\"Accuracy Metrics for Item Average Model on the test set:\", rmse_item_avg)\n"
   ],
   "id": "d55ebcaf91ce20ad",
   "outputs": [
    {
     "name": "stdout",
     "output_type": "stream",
     "text": [
      "Accuracy Metrics for Item Average Model on the test set: {'rmse': np.float64(2.015863410721972), 'mae': np.float64(3.9097717061533412), 'precision': np.float64(1.0), 'recall': np.float64(0.0), 'f1_score': np.float64(0.0)}\n"
     ]
    }
   ],
   "execution_count": 174
  },
  {
   "metadata": {
    "ExecuteTime": {
     "end_time": "2024-07-31T02:02:44.037073Z",
     "start_time": "2024-07-31T02:02:40.765710Z"
    }
   },
   "cell_type": "code",
   "source": [
    "class RandomModel:\n",
    "    def __init__(self, train_):\n",
    "        rating_matrix_df = get_rating_matrix_df(train_, filtered=True)\n",
    "        \n",
    "        # Flatten the DataFrame values and exclude NaNs to calculate min and max ratings\n",
    "        rating_matrix_flat = rating_matrix_df.values.flatten()\n",
    "        self.min_rating = np.nanmin(rating_matrix_flat)\n",
    "        self.max_rating = np.nanmax(rating_matrix_flat)\n",
    "\n",
    "    def predict_rating(self, user_id, book_id):\n",
    "        return np.random.uniform(self.min_rating, self.max_rating)\n",
    "\n",
    "    def recommend(self, user_id, n_recommendations=5):\n",
    "        return [np.random.uniform(self.min_rating, self.max_rating) for _ in range(n_recommendations)]\n",
    "\n",
    "# Instantiate the random model\n",
    "random_model = RandomModel(train)\n",
    "\n",
    "# Evaluate the random model using RMSE on the test set\n",
    "rmse_random = evaluate_model(random_model, test)\n",
    "print(\"Accuracy Metrics for Random Model on the test set:\", rmse_random)\n"
   ],
   "id": "b9e79da9a3e75082",
   "outputs": [
    {
     "name": "stdout",
     "output_type": "stream",
     "text": [
      "Accuracy Metrics for Random Model on the test set: {'rmse': np.float64(2.295436862395513), 'mae': np.float64(4.441348587857742), 'precision': np.float64(0.3674981530572335), 'recall': np.float64(0.5998439476515304), 'f1_score': np.float64(0.45576749471150174)}\n"
     ]
    }
   ],
   "execution_count": 175
  },
  {
   "metadata": {
    "ExecuteTime": {
     "end_time": "2024-07-31T02:03:17.247274Z",
     "start_time": "2024-07-31T02:02:44.037706Z"
    }
   },
   "cell_type": "code",
   "source": [
    "from scipy.sparse.linalg import svds\n",
    "\n",
    "\n",
    "def grid_search_k(train, test, k_values, reg_values):\n",
    "    \"\"\"\n",
    "    Perform grid search to find the optimal number of latent factors (k) and regularization (reg) for SVD.\n",
    "\n",
    "    Args:\n",
    "    train (pd.DataFrame): The training dataset.\n",
    "    test (pd.DataFrame): The test dataset.\n",
    "    k_values (list): List of k values to evaluate.\n",
    "    reg_values (list): List of regularization values to evaluate.\n",
    "\n",
    "    Returns:\n",
    "    dict: Dictionary with (k, reg) as keys and RMSE/MAE/R^2 scores as values.\n",
    "    \"\"\"\n",
    "    results = {}\n",
    "    for k in k_values:\n",
    "        for reg in reg_values:\n",
    "            print(f\"Evaluating k={k}, reg={reg}...\")\n",
    "            svd_model = SVDFiltering(train, k, reg)\n",
    "            accuracy_metrics = evaluate_model(svd_model, test)\n",
    "            results[(k, reg)] = accuracy_metrics\n",
    "            print(f\"k={k}, reg={reg}:\", accuracy_metrics)\n",
    "    return results\n",
    "\n",
    "\n",
    "class SVDFiltering:\n",
    "    def __init__(self, train_, k_, reg):\n",
    "        self.rating_matrix_df = get_rating_matrix_df(train_, filtered=True)  # DataFrame for index lookups\n",
    "        self.rating_matrix_df, self.user_means = self.normalize_ratings(self.rating_matrix_df)\n",
    "        self.rating_matrix_sparse = get_rating_matrix_sparse(self.rating_matrix_df)  # Sparse matrix for calculations\n",
    "        \n",
    "        # Use SVD for dimensionality reduction\n",
    "        self.U, self.sigma, self.Vt = svds(self.rating_matrix_sparse, k=k_)\n",
    "        self.sigma = np.diag(self.sigma)\n",
    "\n",
    "        # Regularization parameter\n",
    "        self.reg = reg\n",
    "\n",
    "    def normalize_ratings(self, rating_matrix_df):\n",
    "        \"\"\"\n",
    "        Normalize the ratings by subtracting the mean rating for each user.\n",
    "\n",
    "        Args:\n",
    "        rating_matrix_df (pd.DataFrame): The user-item rating matrix.\n",
    "\n",
    "        Returns:\n",
    "        pd.DataFrame: The normalized user-item rating matrix.\n",
    "        pd.Series: The mean ratings for each user.\n",
    "        \"\"\"\n",
    "        user_means = rating_matrix_df.mean(axis=1)\n",
    "        rating_matrix_normalized = rating_matrix_df.sub(user_means, axis=0)\n",
    "        return rating_matrix_normalized, user_means\n",
    "\n",
    "    def predict_rating(self, user_id, book_id):\n",
    "        if user_id not in self.rating_matrix_df.index or book_id not in self.rating_matrix_df.columns:\n",
    "            return np.nan\n",
    "        user_index = self.rating_matrix_df.index.get_loc(user_id)\n",
    "        book_index = self.rating_matrix_df.columns.get_loc(book_id)\n",
    "        \n",
    "        user_predicted_ratings = np.dot(np.dot(self.U[user_index, :], self.sigma), self.Vt)\n",
    "        # Adjust prediction by adding the user mean and applying regularization\n",
    "        predicted_rating = user_predicted_ratings[book_index] + self.user_means[user_id] * self.reg\n",
    "        \n",
    "        return predicted_rating\n",
    "\n",
    "    def recommend(self, user_id, n_recommendations=5):\n",
    "        if user_id not in self.rating_matrix_df.index:\n",
    "            return []\n",
    "\n",
    "        user_index = self.rating_matrix_df.index.get_loc(user_id)\n",
    "        user_predicted_ratings = np.dot(np.dot(self.U[user_index, :], self.sigma), self.Vt)\n",
    "        \n",
    "        # Adjust predictions by adding the user mean\n",
    "        user_predicted_ratings += self.user_means[user_index]\n",
    "        \n",
    "        # Get indices of books the user has not rated yet\n",
    "        unrated_books_indices = np.where(self.rating_matrix_df.loc[user_id].isna())[0]\n",
    "        \n",
    "        # Sort the predicted ratings for these unrated books\n",
    "        recommended_books_indices = np.argsort(user_predicted_ratings[unrated_books_indices])[::-1]\n",
    "        \n",
    "        # Get the actual book IDs for these indices\n",
    "        recommended_books = self.rating_matrix_df.columns[unrated_books_indices][recommended_books_indices].tolist()\n",
    "        \n",
    "        return recommended_books[:n_recommendations]\n",
    "\n",
    "# Instantiate the SVD-based collaborative filtering model\n",
    "results = grid_search_k(train, test, k_values=[10, 50, 100], reg_values=[0.6, 0.8, 1.0])\n",
    "\n",
    "# Find the best k based on RMSE\n",
    "best_results = max(results, key=lambda x: results[x]['f1_score'])\n",
    "svd_rmse = results[best_results]\n",
    "\n",
    "# Evaluate the SVD-based collaborative filtering model\n",
    "print(f\"Best results with k={best_results[0]} and reg={best_results[1]}\")\n",
    "print(\"Accuracy Metrics for SVD-based Collaborative Filtering Model on the test set:\", svd_rmse)\n"
   ],
   "id": "b46c89dc56bcdf00",
   "outputs": [
    {
     "name": "stdout",
     "output_type": "stream",
     "text": [
      "Evaluating k=10, reg=0.6...\n",
      "k=10, reg=0.6: {'rmse': np.float64(1.968584482992831), 'mae': np.float64(2.901994693823562), 'precision': np.float64(0.7191011235955056), 'recall': np.float64(0.222001982160555), 'f1_score': np.float64(0.339265429761454)}\n",
      "Evaluating k=10, reg=0.8...\n",
      "k=10, reg=0.8: {'rmse': np.float64(1.9436554803401176), 'mae': np.float64(2.905946585775243), 'precision': np.float64(0.6550106609808103), 'recall': np.float64(0.38057482656095143), 'f1_score': np.float64(0.48142924306535023)}\n",
      "Evaluating k=10, reg=1.0...\n",
      "k=10, reg=1.0: {'rmse': np.float64(1.9603566277628242), 'mae': np.float64(2.9710517219727643), 'precision': np.float64(0.6098074608904934), 'recall': np.float64(0.5022299306243806), 'f1_score': np.float64(0.5508152173913043)}\n",
      "Evaluating k=50, reg=0.6...\n",
      "k=50, reg=0.6: {'rmse': np.float64(1.9698683163302815), 'mae': np.float64(2.903619077249025), 'precision': np.float64(0.7203791469194313), 'recall': np.float64(0.2259663032705649), 'f1_score': np.float64(0.3440211241041117)}\n",
      "Evaluating k=50, reg=0.8...\n",
      "k=50, reg=0.8: {'rmse': np.float64(1.9449481040644219), 'mae': np.float64(2.9058746093900316), 'precision': np.float64(0.6525388166177087), 'recall': np.float64(0.3852824578790882), 'f1_score': np.float64(0.4844991431687179)}\n",
      "Evaluating k=50, reg=1.0...\n",
      "k=50, reg=1.0: {'rmse': np.float64(1.9615763989087833), 'mae': np.float64(2.969828881907312), 'precision': np.float64(0.608656981915209), 'recall': np.float64(0.5086719524281467), 'f1_score': np.float64(0.554190848967472)}\n",
      "Evaluating k=100, reg=0.6...\n",
      "k=100, reg=0.6: {'rmse': np.float64(1.9693897184454672), 'mae': np.float64(2.900073220506223), 'precision': np.float64(0.7146302250803859), 'recall': np.float64(0.22026759167492566), 'f1_score': np.float64(0.33674242424242423)}\n",
      "Evaluating k=100, reg=0.8...\n",
      "k=100, reg=0.8: {'rmse': np.float64(1.9442504409843304), 'mae': np.float64(2.902915099275976), 'precision': np.float64(0.6585365853658537), 'recall': np.float64(0.3813181367690783), 'f1_score': np.float64(0.48297505099639104)}\n",
      "Evaluating k=100, reg=1.0...\n",
      "k=100, reg=1.0: {'rmse': np.float64(1.96070091939499), 'mae': np.float64(2.9671671484936937), 'precision': np.float64(0.6099099099099099), 'recall': np.float64(0.5032210109018831), 'f1_score': np.float64(0.5514526201466196)}\n",
      "Best results with k=50 and reg=1.0\n",
      "Accuracy Metrics for SVD-based Collaborative Filtering Model on the test set: {'rmse': np.float64(1.9615763989087833), 'mae': np.float64(2.969828881907312), 'precision': np.float64(0.608656981915209), 'recall': np.float64(0.5086719524281467), 'f1_score': np.float64(0.554190848967472)}\n"
     ]
    }
   ],
   "execution_count": 176
  },
  {
   "metadata": {
    "ExecuteTime": {
     "end_time": "2024-07-31T02:03:17.249796Z",
     "start_time": "2024-07-31T02:03:17.247848Z"
    }
   },
   "cell_type": "code",
   "source": [
    "print(\"RMSE Comparison:\")\n",
    "\n",
    "print(rmse_random)\n",
    "print(svd_rmse)\n",
    "\n",
    "print(print_evaluation_metrics(\"Random Model:\", rmse_random))\n",
    "print(print_evaluation_metrics(\"Global Average Model:\", rmse_global_avg))\n",
    "print(print_evaluation_metrics(\"User Average Model:\", rmse_user_avg))\n",
    "print(print_evaluation_metrics(\"Item Average Model:\", rmse_item_avg))\n",
    "print(print_evaluation_metrics(\"Collaborative Filtering Model:\", collab_rmse))\n",
    "print(print_evaluation_metrics(\"SVD-based Collaborative Filtering Model:\", svd_rmse))"
   ],
   "id": "329c865a86680cb7",
   "outputs": [
    {
     "name": "stdout",
     "output_type": "stream",
     "text": [
      "RMSE Comparison:\n",
      "{'rmse': np.float64(2.295436862395513), 'mae': np.float64(4.441348587857742), 'precision': np.float64(0.3674981530572335), 'recall': np.float64(0.5998439476515304), 'f1_score': np.float64(0.45576749471150174)}\n",
      "{'rmse': np.float64(1.9615763989087833), 'mae': np.float64(2.969828881907312), 'precision': np.float64(0.608656981915209), 'recall': np.float64(0.5086719524281467), 'f1_score': np.float64(0.554190848967472)}\n",
      "Random Model: Evaluation Metrics:\n",
      "Root Mean Squared Error (RMSE): 2.30\n",
      "Mean Absolute Error (MAE):     4.44\n",
      "Precision:                     36.75%\n",
      "Recall:                        59.98%\n",
      "F1-score:                      45.58%\n",
      "----------------------------------------\n",
      "None\n",
      "Global Average Model: Evaluation Metrics:\n",
      "Root Mean Squared Error (RMSE): 1.99\n",
      "Mean Absolute Error (MAE):     3.80\n",
      "Precision:                     100.00%\n",
      "Recall:                        0.00%\n",
      "F1-score:                      0.00%\n",
      "----------------------------------------\n",
      "None\n",
      "User Average Model: Evaluation Metrics:\n",
      "Root Mean Squared Error (RMSE): 1.92\n",
      "Mean Absolute Error (MAE):     2.74\n",
      "Precision:                     56.69%\n",
      "Recall:                        46.88%\n",
      "F1-score:                      51.32%\n",
      "----------------------------------------\n",
      "None\n",
      "Item Average Model: Evaluation Metrics:\n",
      "Root Mean Squared Error (RMSE): 2.02\n",
      "Mean Absolute Error (MAE):     3.91\n",
      "Precision:                     100.00%\n",
      "Recall:                        0.00%\n",
      "F1-score:                      0.00%\n",
      "----------------------------------------\n",
      "None\n",
      "Collaborative Filtering Model: Evaluation Metrics:\n",
      "Root Mean Squared Error (RMSE): 5.51\n",
      "Mean Absolute Error (MAE):     4.69\n",
      "Precision:                     42.11%\n",
      "Recall:                        3.81%\n",
      "F1-score:                      6.99%\n",
      "----------------------------------------\n",
      "None\n",
      "SVD-based Collaborative Filtering Model: Evaluation Metrics:\n",
      "Root Mean Squared Error (RMSE): 1.96\n",
      "Mean Absolute Error (MAE):     2.97\n",
      "Precision:                     60.87%\n",
      "Recall:                        50.87%\n",
      "F1-score:                      55.42%\n",
      "----------------------------------------\n",
      "None\n"
     ]
    }
   ],
   "execution_count": 177
  },
  {
   "metadata": {},
   "cell_type": "code",
   "outputs": [],
   "execution_count": null,
   "source": "",
   "id": "fd97066e2f55fed5"
  }
 ],
 "metadata": {
  "kernelspec": {
   "display_name": "Python 3",
   "language": "python",
   "name": "python3"
  },
  "language_info": {
   "codemirror_mode": {
    "name": "ipython",
    "version": 2
   },
   "file_extension": ".py",
   "mimetype": "text/x-python",
   "name": "python",
   "nbconvert_exporter": "python",
   "pygments_lexer": "ipython2",
   "version": "2.7.6"
  }
 },
 "nbformat": 4,
 "nbformat_minor": 5
}
